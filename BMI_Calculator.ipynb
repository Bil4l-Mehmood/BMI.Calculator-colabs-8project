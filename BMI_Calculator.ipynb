{
  "nbformat": 4,
  "nbformat_minor": 0,
  "metadata": {
    "colab": {
      "provenance": []
    },
    "kernelspec": {
      "name": "python3",
      "display_name": "Python 3"
    },
    "language_info": {
      "name": "python"
    }
  },
  "cells": [
    {
      "cell_type": "markdown",
      "source": [
        "# **Projects to be submitted by Students**"
      ],
      "metadata": {
        "id": "vEGGHkOEzmJc"
      }
    },
    {
      "cell_type": "markdown",
      "source": [
        "**Project 8: BMI Calculator**"
      ],
      "metadata": {
        "id": "NxPCpZSPz8Fd"
      }
    },
    {
      "cell_type": "code",
      "source": [
        "# BMI Calculator\n",
        "height = float(input(\"Enter your height in cm: \"))\n",
        "weight = float(input(\"Enter your weight in kg: \"))\n",
        "\n",
        "bmi = weight / ((height / 100) ** 2)\n",
        "\n",
        "print(f\"Your BMI is: {bmi:.2f}\")\n",
        "print(\"\\n BMI Categories \")\n",
        "print(\"- Underweight: BMI less than 18.5\")\n",
        "print(\"- Normal: BMI between 18.5 and 24.9\")\n",
        "print(\"- Overweight: BMI between 25 and 29.5\")\n",
        "print(\"- Obesity: BMI 30 or greater\")"
      ],
      "metadata": {
        "colab": {
          "base_uri": "https://localhost:8080/"
        },
        "id": "D4_a7eHN0EyI",
        "outputId": "06a67812-a665-4d28-cb99-4fca5679ffab"
      },
      "execution_count": 8,
      "outputs": [
        {
          "output_type": "stream",
          "name": "stdout",
          "text": [
            "Enter your height in cm: 5.5\n",
            "Enter your weight in kg: 48\n",
            "Your BMI is: 15867.77\n",
            "\n",
            " BMI Categories \n",
            "- Underweight: BMI less than 18.5\n",
            "- Normal: BMI between 18.5 and 24.9\n",
            "- Overweight: BMI between 25 and 29.5\n",
            "- Obesity: BMI 30 or greater\n"
          ]
        }
      ]
    }
  ]
}